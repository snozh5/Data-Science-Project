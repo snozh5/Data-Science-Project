{
 "cells": [
  {
   "cell_type": "code",
   "execution_count": 1,
   "metadata": {},
   "outputs": [],
   "source": [
    "# supress Warnings\n",
    "import warnings\n",
    "warnings.filterwarnings(\"ignore\") "
   ]
  },
  {
   "cell_type": "code",
   "execution_count": 2,
   "metadata": {},
   "outputs": [],
   "source": [
    "# Importing Libraries\n",
    "import pandas as pd\n",
    "import numpy as np\n",
    "\n",
    "# For Visualisation\n",
    "import matplotlib.pyplot as plt\n",
    "import seaborn as sns\n",
    "%matplotlib inline\n",
    "\n",
    "# To Scale our data\n",
    "from sklearn.preprocessing import scale\n",
    "\n",
    "# To perform KMeans clustering \n",
    "from sklearn.cluster import KMeans\n",
    "\n",
    "# To perform Hierarchical clustering\n",
    "from scipy.cluster.hierarchy import linkage\n",
    "from scipy.cluster.hierarchy import dendrogram\n",
    "from scipy.cluster.hierarchy import cut_tree"
   ]
  },
  {
   "cell_type": "code",
   "execution_count": 3,
   "metadata": {
    "scrolled": true
   },
   "outputs": [
    {
     "data": {
      "text/html": [
       "<div>\n",
       "<style scoped>\n",
       "    .dataframe tbody tr th:only-of-type {\n",
       "        vertical-align: middle;\n",
       "    }\n",
       "\n",
       "    .dataframe tbody tr th {\n",
       "        vertical-align: top;\n",
       "    }\n",
       "\n",
       "    .dataframe thead th {\n",
       "        text-align: right;\n",
       "    }\n",
       "</style>\n",
       "<table border=\"1\" class=\"dataframe\">\n",
       "  <thead>\n",
       "    <tr style=\"text-align: right;\">\n",
       "      <th></th>\n",
       "      <th>index</th>\n",
       "      <th>country</th>\n",
       "      <th>child_mort</th>\n",
       "      <th>exports</th>\n",
       "      <th>health</th>\n",
       "      <th>imports</th>\n",
       "      <th>income</th>\n",
       "      <th>inflation</th>\n",
       "      <th>life_expec</th>\n",
       "      <th>total_fer</th>\n",
       "      <th>gdpp</th>\n",
       "    </tr>\n",
       "  </thead>\n",
       "  <tbody>\n",
       "    <tr>\n",
       "      <th>0</th>\n",
       "      <td>0</td>\n",
       "      <td>Afghanistan</td>\n",
       "      <td>90.2</td>\n",
       "      <td>10.0</td>\n",
       "      <td>7.58</td>\n",
       "      <td>44.9</td>\n",
       "      <td>1610</td>\n",
       "      <td>9.44</td>\n",
       "      <td>56.2</td>\n",
       "      <td>5.82</td>\n",
       "      <td>553</td>\n",
       "    </tr>\n",
       "    <tr>\n",
       "      <th>1</th>\n",
       "      <td>1</td>\n",
       "      <td>Albania</td>\n",
       "      <td>16.6</td>\n",
       "      <td>28.0</td>\n",
       "      <td>6.55</td>\n",
       "      <td>48.6</td>\n",
       "      <td>9930</td>\n",
       "      <td>4.49</td>\n",
       "      <td>76.3</td>\n",
       "      <td>1.65</td>\n",
       "      <td>4090</td>\n",
       "    </tr>\n",
       "    <tr>\n",
       "      <th>2</th>\n",
       "      <td>2</td>\n",
       "      <td>Algeria</td>\n",
       "      <td>27.3</td>\n",
       "      <td>38.4</td>\n",
       "      <td>4.17</td>\n",
       "      <td>31.4</td>\n",
       "      <td>12900</td>\n",
       "      <td>16.10</td>\n",
       "      <td>76.5</td>\n",
       "      <td>2.89</td>\n",
       "      <td>4460</td>\n",
       "    </tr>\n",
       "    <tr>\n",
       "      <th>3</th>\n",
       "      <td>3</td>\n",
       "      <td>Angola</td>\n",
       "      <td>119.0</td>\n",
       "      <td>62.3</td>\n",
       "      <td>2.85</td>\n",
       "      <td>42.9</td>\n",
       "      <td>5900</td>\n",
       "      <td>22.40</td>\n",
       "      <td>60.1</td>\n",
       "      <td>6.16</td>\n",
       "      <td>3530</td>\n",
       "    </tr>\n",
       "    <tr>\n",
       "      <th>4</th>\n",
       "      <td>4</td>\n",
       "      <td>Antigua and Barbuda</td>\n",
       "      <td>10.3</td>\n",
       "      <td>45.5</td>\n",
       "      <td>6.03</td>\n",
       "      <td>58.9</td>\n",
       "      <td>19100</td>\n",
       "      <td>1.44</td>\n",
       "      <td>76.8</td>\n",
       "      <td>2.13</td>\n",
       "      <td>12200</td>\n",
       "    </tr>\n",
       "  </tbody>\n",
       "</table>\n",
       "</div>"
      ],
      "text/plain": [
       "   index              country  child_mort  exports  health  imports  income  \\\n",
       "0      0          Afghanistan        90.2     10.0    7.58     44.9    1610   \n",
       "1      1              Albania        16.6     28.0    6.55     48.6    9930   \n",
       "2      2              Algeria        27.3     38.4    4.17     31.4   12900   \n",
       "3      3               Angola       119.0     62.3    2.85     42.9    5900   \n",
       "4      4  Antigua and Barbuda        10.3     45.5    6.03     58.9   19100   \n",
       "\n",
       "   inflation  life_expec  total_fer   gdpp  \n",
       "0       9.44        56.2       5.82    553  \n",
       "1       4.49        76.3       1.65   4090  \n",
       "2      16.10        76.5       2.89   4460  \n",
       "3      22.40        60.1       6.16   3530  \n",
       "4       1.44        76.8       2.13  12200  "
      ]
     },
     "execution_count": 3,
     "metadata": {},
     "output_type": "execute_result"
    }
   ],
   "source": [
    "# Importing the datasets\n",
    "country_data = pd.read_csv(\"Country-data.csv\")\n",
    "country_data.reset_index(level=0, inplace=True)\n",
    "country_data.head()"
   ]
  },
  {
   "cell_type": "code",
   "execution_count": 4,
   "metadata": {},
   "outputs": [
    {
     "name": "stdout",
     "output_type": "stream",
     "text": [
      "(167, 11)\n",
      "           index  child_mort     exports      health     imports  \\\n",
      "count  167.00000  167.000000  167.000000  167.000000  167.000000   \n",
      "mean    83.00000   38.270060   41.108976    6.815689   46.890215   \n",
      "std     48.35287   40.328931   27.412010    2.746837   24.209589   \n",
      "min      0.00000    2.600000    0.109000    1.810000    0.065900   \n",
      "25%     41.50000    8.250000   23.800000    4.920000   30.200000   \n",
      "50%     83.00000   19.300000   35.000000    6.320000   43.300000   \n",
      "75%    124.50000   62.100000   51.350000    8.600000   58.750000   \n",
      "max    166.00000  208.000000  200.000000   17.900000  174.000000   \n",
      "\n",
      "              income   inflation  life_expec   total_fer           gdpp  \n",
      "count     167.000000  167.000000  167.000000  167.000000     167.000000  \n",
      "mean    17144.688623    7.781832   70.555689    2.947964   12964.155689  \n",
      "std     19278.067698   10.570704    8.893172    1.513848   18328.704809  \n",
      "min       609.000000   -4.210000   32.100000    1.150000     231.000000  \n",
      "25%      3355.000000    1.810000   65.300000    1.795000    1330.000000  \n",
      "50%      9960.000000    5.390000   73.100000    2.410000    4660.000000  \n",
      "75%     22800.000000   10.750000   76.800000    3.880000   14050.000000  \n",
      "max    125000.000000  104.000000   82.800000    7.490000  105000.000000  \n",
      "<class 'pandas.core.frame.DataFrame'>\n",
      "RangeIndex: 167 entries, 0 to 166\n",
      "Data columns (total 11 columns):\n",
      " #   Column      Non-Null Count  Dtype  \n",
      "---  ------      --------------  -----  \n",
      " 0   index       167 non-null    int64  \n",
      " 1   country     167 non-null    object \n",
      " 2   child_mort  167 non-null    float64\n",
      " 3   exports     167 non-null    float64\n",
      " 4   health      167 non-null    float64\n",
      " 5   imports     167 non-null    float64\n",
      " 6   income      167 non-null    int64  \n",
      " 7   inflation   167 non-null    float64\n",
      " 8   life_expec  167 non-null    float64\n",
      " 9   total_fer   167 non-null    float64\n",
      " 10  gdpp        167 non-null    int64  \n",
      "dtypes: float64(7), int64(3), object(1)\n",
      "memory usage: 14.5+ KB\n",
      "None\n",
      "Index(['index', 'country', 'child_mort', 'exports', 'health', 'imports',\n",
      "       'income', 'inflation', 'life_expec', 'total_fer', 'gdpp'],\n",
      "      dtype='object')\n"
     ]
    }
   ],
   "source": [
    "# Inspecting the file\n",
    "print(country_data.shape)\n",
    "print(country_data.describe())\n",
    "print(country_data.info())\n",
    "print(country_data.columns)"
   ]
  },
  {
   "cell_type": "code",
   "execution_count": 5,
   "metadata": {},
   "outputs": [
    {
     "data": {
      "text/plain": [
       "True"
      ]
     },
     "execution_count": 5,
     "metadata": {},
     "output_type": "execute_result"
    }
   ],
   "source": [
    "# checking for duplicate values\n",
    "\n",
    "sum(country_data.duplicated(subset = \"country\")) == 0"
   ]
  },
  {
   "cell_type": "code",
   "execution_count": 6,
   "metadata": {},
   "outputs": [
    {
     "name": "stdout",
     "output_type": "stream",
     "text": [
      "index         0\n",
      "country       0\n",
      "child_mort    0\n",
      "exports       0\n",
      "health        0\n",
      "imports       0\n",
      "income        0\n",
      "inflation     0\n",
      "life_expec    0\n",
      "total_fer     0\n",
      "gdpp          0\n",
      "dtype: int64\n",
      "False\n",
      "0\n"
     ]
    }
   ],
   "source": [
    "#finding the sum of Null values in each column and also if there is any Null values in the dataframe\n",
    "\n",
    "print (country_data.isnull().sum())  \n",
    "print (country_data.isnull().values.any())\n",
    "print (country_data.isnull().values.sum())"
   ]
  },
  {
   "cell_type": "code",
   "execution_count": 7,
   "metadata": {},
   "outputs": [
    {
     "data": {
      "text/html": [
       "<div>\n",
       "<style scoped>\n",
       "    .dataframe tbody tr th:only-of-type {\n",
       "        vertical-align: middle;\n",
       "    }\n",
       "\n",
       "    .dataframe tbody tr th {\n",
       "        vertical-align: top;\n",
       "    }\n",
       "\n",
       "    .dataframe thead th {\n",
       "        text-align: right;\n",
       "    }\n",
       "</style>\n",
       "<table border=\"1\" class=\"dataframe\">\n",
       "  <thead>\n",
       "    <tr style=\"text-align: right;\">\n",
       "      <th></th>\n",
       "      <th>child_mort</th>\n",
       "      <th>exports</th>\n",
       "      <th>health</th>\n",
       "      <th>imports</th>\n",
       "      <th>income</th>\n",
       "      <th>inflation</th>\n",
       "      <th>life_expec</th>\n",
       "      <th>total_fer</th>\n",
       "      <th>gdpp</th>\n",
       "    </tr>\n",
       "  </thead>\n",
       "  <tbody>\n",
       "    <tr>\n",
       "      <th>0</th>\n",
       "      <td>90.2</td>\n",
       "      <td>10.0</td>\n",
       "      <td>7.58</td>\n",
       "      <td>44.9</td>\n",
       "      <td>1610</td>\n",
       "      <td>9.44</td>\n",
       "      <td>56.2</td>\n",
       "      <td>5.82</td>\n",
       "      <td>553</td>\n",
       "    </tr>\n",
       "    <tr>\n",
       "      <th>1</th>\n",
       "      <td>16.6</td>\n",
       "      <td>28.0</td>\n",
       "      <td>6.55</td>\n",
       "      <td>48.6</td>\n",
       "      <td>9930</td>\n",
       "      <td>4.49</td>\n",
       "      <td>76.3</td>\n",
       "      <td>1.65</td>\n",
       "      <td>4090</td>\n",
       "    </tr>\n",
       "    <tr>\n",
       "      <th>2</th>\n",
       "      <td>27.3</td>\n",
       "      <td>38.4</td>\n",
       "      <td>4.17</td>\n",
       "      <td>31.4</td>\n",
       "      <td>12900</td>\n",
       "      <td>16.10</td>\n",
       "      <td>76.5</td>\n",
       "      <td>2.89</td>\n",
       "      <td>4460</td>\n",
       "    </tr>\n",
       "    <tr>\n",
       "      <th>3</th>\n",
       "      <td>119.0</td>\n",
       "      <td>62.3</td>\n",
       "      <td>2.85</td>\n",
       "      <td>42.9</td>\n",
       "      <td>5900</td>\n",
       "      <td>22.40</td>\n",
       "      <td>60.1</td>\n",
       "      <td>6.16</td>\n",
       "      <td>3530</td>\n",
       "    </tr>\n",
       "    <tr>\n",
       "      <th>4</th>\n",
       "      <td>10.3</td>\n",
       "      <td>45.5</td>\n",
       "      <td>6.03</td>\n",
       "      <td>58.9</td>\n",
       "      <td>19100</td>\n",
       "      <td>1.44</td>\n",
       "      <td>76.8</td>\n",
       "      <td>2.13</td>\n",
       "      <td>12200</td>\n",
       "    </tr>\n",
       "  </tbody>\n",
       "</table>\n",
       "</div>"
      ],
      "text/plain": [
       "   child_mort  exports  health  imports  income  inflation  life_expec  \\\n",
       "0        90.2     10.0    7.58     44.9    1610       9.44        56.2   \n",
       "1        16.6     28.0    6.55     48.6    9930       4.49        76.3   \n",
       "2        27.3     38.4    4.17     31.4   12900      16.10        76.5   \n",
       "3       119.0     62.3    2.85     42.9    5900      22.40        60.1   \n",
       "4        10.3     45.5    6.03     58.9   19100       1.44        76.8   \n",
       "\n",
       "   total_fer   gdpp  \n",
       "0       5.82    553  \n",
       "1       1.65   4090  \n",
       "2       2.89   4460  \n",
       "3       6.16   3530  \n",
       "4       2.13  12200  "
      ]
     },
     "execution_count": 7,
     "metadata": {},
     "output_type": "execute_result"
    }
   ],
   "source": [
    "#copying the attributes that need to be clustered\n",
    "df_cluster = country_data[['child_mort', 'exports', 'health', 'imports', 'income', 'inflation', 'life_expec', 'total_fer', 'gdpp']].copy()\n",
    "df_cluster.head()"
   ]
  },
  {
   "cell_type": "markdown",
   "metadata": {},
   "source": [
    "### Scaling the data\n"
   ]
  },
  {
   "cell_type": "code",
   "execution_count": 8,
   "metadata": {},
   "outputs": [],
   "source": [
    "# standardise all parameters\n",
    "from sklearn.preprocessing import StandardScaler\n",
    "standard_scaler = StandardScaler()\n",
    "cluster_norm = standard_scaler.fit_transform(df_cluster)"
   ]
  },
  {
   "cell_type": "code",
   "execution_count": 9,
   "metadata": {},
   "outputs": [
    {
     "data": {
      "text/html": [
       "<div>\n",
       "<style scoped>\n",
       "    .dataframe tbody tr th:only-of-type {\n",
       "        vertical-align: middle;\n",
       "    }\n",
       "\n",
       "    .dataframe tbody tr th {\n",
       "        vertical-align: top;\n",
       "    }\n",
       "\n",
       "    .dataframe thead th {\n",
       "        text-align: right;\n",
       "    }\n",
       "</style>\n",
       "<table border=\"1\" class=\"dataframe\">\n",
       "  <thead>\n",
       "    <tr style=\"text-align: right;\">\n",
       "      <th></th>\n",
       "      <th>child_mort</th>\n",
       "      <th>exports</th>\n",
       "      <th>health</th>\n",
       "      <th>imports</th>\n",
       "      <th>income</th>\n",
       "      <th>inflation</th>\n",
       "      <th>life_expec</th>\n",
       "      <th>total_fer</th>\n",
       "      <th>gdpp</th>\n",
       "    </tr>\n",
       "  </thead>\n",
       "  <tbody>\n",
       "    <tr>\n",
       "      <th>0</th>\n",
       "      <td>1.291532</td>\n",
       "      <td>-1.138280</td>\n",
       "      <td>0.279088</td>\n",
       "      <td>-0.082455</td>\n",
       "      <td>-0.808245</td>\n",
       "      <td>0.157336</td>\n",
       "      <td>-1.619092</td>\n",
       "      <td>1.902882</td>\n",
       "      <td>-0.679180</td>\n",
       "    </tr>\n",
       "    <tr>\n",
       "      <th>1</th>\n",
       "      <td>-0.538949</td>\n",
       "      <td>-0.479658</td>\n",
       "      <td>-0.097016</td>\n",
       "      <td>0.070837</td>\n",
       "      <td>-0.375369</td>\n",
       "      <td>-0.312347</td>\n",
       "      <td>0.647866</td>\n",
       "      <td>-0.859973</td>\n",
       "      <td>-0.485623</td>\n",
       "    </tr>\n",
       "    <tr>\n",
       "      <th>2</th>\n",
       "      <td>-0.272833</td>\n",
       "      <td>-0.099122</td>\n",
       "      <td>-0.966073</td>\n",
       "      <td>-0.641762</td>\n",
       "      <td>-0.220844</td>\n",
       "      <td>0.789274</td>\n",
       "      <td>0.670423</td>\n",
       "      <td>-0.038404</td>\n",
       "      <td>-0.465376</td>\n",
       "    </tr>\n",
       "    <tr>\n",
       "      <th>3</th>\n",
       "      <td>2.007808</td>\n",
       "      <td>0.775381</td>\n",
       "      <td>-1.448071</td>\n",
       "      <td>-0.165315</td>\n",
       "      <td>-0.585043</td>\n",
       "      <td>1.387054</td>\n",
       "      <td>-1.179234</td>\n",
       "      <td>2.128151</td>\n",
       "      <td>-0.516268</td>\n",
       "    </tr>\n",
       "    <tr>\n",
       "      <th>4</th>\n",
       "      <td>-0.695634</td>\n",
       "      <td>0.160668</td>\n",
       "      <td>-0.286894</td>\n",
       "      <td>0.497568</td>\n",
       "      <td>0.101732</td>\n",
       "      <td>-0.601749</td>\n",
       "      <td>0.704258</td>\n",
       "      <td>-0.541946</td>\n",
       "      <td>-0.041817</td>\n",
       "    </tr>\n",
       "  </tbody>\n",
       "</table>\n",
       "</div>"
      ],
      "text/plain": [
       "   child_mort   exports    health   imports    income  inflation  life_expec  \\\n",
       "0    1.291532 -1.138280  0.279088 -0.082455 -0.808245   0.157336   -1.619092   \n",
       "1   -0.538949 -0.479658 -0.097016  0.070837 -0.375369  -0.312347    0.647866   \n",
       "2   -0.272833 -0.099122 -0.966073 -0.641762 -0.220844   0.789274    0.670423   \n",
       "3    2.007808  0.775381 -1.448071 -0.165315 -0.585043   1.387054   -1.179234   \n",
       "4   -0.695634  0.160668 -0.286894  0.497568  0.101732  -0.601749    0.704258   \n",
       "\n",
       "   total_fer      gdpp  \n",
       "0   1.902882 -0.679180  \n",
       "1  -0.859973 -0.485623  \n",
       "2  -0.038404 -0.465376  \n",
       "3   2.128151 -0.516268  \n",
       "4  -0.541946 -0.041817  "
      ]
     },
     "execution_count": 9,
     "metadata": {},
     "output_type": "execute_result"
    }
   ],
   "source": [
    "#putting it to a Dataframe name \"cluster_norm\"\n",
    "cluster_norm = pd.DataFrame(cluster_norm)\n",
    "cluster_norm.columns = ['child_mort', 'exports', 'health', 'imports', 'income', 'inflation', 'life_expec', 'total_fer', 'gdpp']\n",
    "cluster_norm.head()"
   ]
  },
  {
   "cell_type": "code",
   "execution_count": 10,
   "metadata": {},
   "outputs": [
    {
     "data": {
      "text/plain": [
       "(167, 9)"
      ]
     },
     "execution_count": 10,
     "metadata": {},
     "output_type": "execute_result"
    }
   ],
   "source": [
    "cluster_norm.shape"
   ]
  },
  {
   "cell_type": "markdown",
   "metadata": {},
   "source": [
    "### PCA on the dataset"
   ]
  },
  {
   "cell_type": "code",
   "execution_count": 11,
   "metadata": {},
   "outputs": [],
   "source": [
    "#Improting the PCA module\n",
    "from sklearn.decomposition import PCA\n",
    "pca = PCA(svd_solver='randomized', random_state=42)"
   ]
  },
  {
   "cell_type": "code",
   "execution_count": 12,
   "metadata": {},
   "outputs": [
    {
     "data": {
      "text/plain": [
       "PCA(random_state=42, svd_solver='randomized')"
      ]
     },
     "execution_count": 12,
     "metadata": {},
     "output_type": "execute_result"
    }
   ],
   "source": [
    "#Doing the PCA on the data\n",
    "pca.fit(cluster_norm)"
   ]
  },
  {
   "cell_type": "code",
   "execution_count": 13,
   "metadata": {},
   "outputs": [
    {
     "data": {
      "text/plain": [
       "array([[-0.41951945,  0.28389698,  0.15083782,  0.16148244,  0.39844111,\n",
       "        -0.19317293,  0.42583938, -0.40372896,  0.39264482],\n",
       "       [ 0.19288394,  0.61316349, -0.24308678,  0.67182064,  0.02253553,\n",
       "        -0.00840447, -0.22270674,  0.15523311, -0.0460224 ],\n",
       "       [-0.02954353,  0.14476069, -0.59663237, -0.29992674,  0.3015475 ,\n",
       "         0.64251951,  0.11391854,  0.01954925,  0.12297749],\n",
       "       [ 0.37065326,  0.00309102,  0.4618975 , -0.07190746,  0.39215904,\n",
       "         0.15044176, -0.20379723,  0.37830365,  0.53199457],\n",
       "       [-0.16896968,  0.05761584,  0.51800037,  0.25537642, -0.2471496 ,\n",
       "         0.7148691 ,  0.1082198 , -0.13526221, -0.18016662],\n",
       "       [ 0.20062815, -0.05933283,  0.00727646, -0.03003154,  0.16034699,\n",
       "         0.06628537, -0.60112652, -0.75068875,  0.01677876],\n",
       "       [-0.07948854, -0.70730269, -0.24983051,  0.59218953,  0.09556237,\n",
       "         0.10463252,  0.01848639,  0.02882643,  0.24299776],\n",
       "       [-0.68274306, -0.01419742,  0.07249683, -0.02894642,  0.35262369,\n",
       "        -0.01153775, -0.50466425,  0.29335267, -0.24969636],\n",
       "       [ 0.3275418 , -0.12308207,  0.11308797,  0.09903717,  0.61298247,\n",
       "        -0.02523614,  0.29403981, -0.02633585, -0.62564572]])"
      ]
     },
     "execution_count": 13,
     "metadata": {},
     "output_type": "execute_result"
    }
   ],
   "source": [
    "#Principal Components formed after doing PCA on the dataset\n",
    "pca.components_"
   ]
  },
  {
   "cell_type": "markdown",
   "metadata": {},
   "source": [
    "#### Plotting Original Features on the first 2 Principal Component  "
   ]
  },
  {
   "cell_type": "code",
   "execution_count": 14,
   "metadata": {},
   "outputs": [
    {
     "data": {
      "text/html": [
       "<div>\n",
       "<style scoped>\n",
       "    .dataframe tbody tr th:only-of-type {\n",
       "        vertical-align: middle;\n",
       "    }\n",
       "\n",
       "    .dataframe tbody tr th {\n",
       "        vertical-align: top;\n",
       "    }\n",
       "\n",
       "    .dataframe thead th {\n",
       "        text-align: right;\n",
       "    }\n",
       "</style>\n",
       "<table border=\"1\" class=\"dataframe\">\n",
       "  <thead>\n",
       "    <tr style=\"text-align: right;\">\n",
       "      <th></th>\n",
       "      <th>PC1</th>\n",
       "      <th>PC2</th>\n",
       "      <th>Feature</th>\n",
       "    </tr>\n",
       "  </thead>\n",
       "  <tbody>\n",
       "    <tr>\n",
       "      <th>0</th>\n",
       "      <td>-0.419519</td>\n",
       "      <td>0.192884</td>\n",
       "      <td>child_mort</td>\n",
       "    </tr>\n",
       "    <tr>\n",
       "      <th>1</th>\n",
       "      <td>0.283897</td>\n",
       "      <td>0.613163</td>\n",
       "      <td>exports</td>\n",
       "    </tr>\n",
       "    <tr>\n",
       "      <th>2</th>\n",
       "      <td>0.150838</td>\n",
       "      <td>-0.243087</td>\n",
       "      <td>health</td>\n",
       "    </tr>\n",
       "    <tr>\n",
       "      <th>3</th>\n",
       "      <td>0.161482</td>\n",
       "      <td>0.671821</td>\n",
       "      <td>imports</td>\n",
       "    </tr>\n",
       "    <tr>\n",
       "      <th>4</th>\n",
       "      <td>0.398441</td>\n",
       "      <td>0.022536</td>\n",
       "      <td>income</td>\n",
       "    </tr>\n",
       "  </tbody>\n",
       "</table>\n",
       "</div>"
      ],
      "text/plain": [
       "        PC1       PC2     Feature\n",
       "0 -0.419519  0.192884  child_mort\n",
       "1  0.283897  0.613163     exports\n",
       "2  0.150838 -0.243087      health\n",
       "3  0.161482  0.671821     imports\n",
       "4  0.398441  0.022536      income"
      ]
     },
     "execution_count": 14,
     "metadata": {},
     "output_type": "execute_result"
    }
   ],
   "source": [
    "#putting the PCA and original features into \"pcs_df\" dataframe\n",
    "colnames = list(cluster_norm.columns)\n",
    "pcs_df = pd.DataFrame({'PC1':pca.components_[0],'PC2':pca.components_[1], 'Feature':colnames})\n",
    "pcs_df.head()"
   ]
  },
  {
   "cell_type": "code",
   "execution_count": 15,
   "metadata": {},
   "outputs": [
    {
     "data": {
      "image/png": "[encoded data removed]",
      "text/plain": [
       "<Figure size 576x576 with 1 Axes>"
      ]
     },
     "metadata": {},
     "output_type": "display_data"
    }
   ],
   "source": [
    "#plotting the in a scatter plot\n",
    "%matplotlib inline\n",
    "fig = plt.figure(figsize = (8,8))\n",
    "plt.scatter(pcs_df.PC1, pcs_df.PC2)\n",
    "plt.xlabel('Principal Component 1')\n",
    "plt.ylabel('Principal Component 2')\n",
    "for i, txt in enumerate(pcs_df.Feature):\n",
    "    plt.annotate(txt, (pcs_df.PC1[i],pcs_df.PC2[i]))\n",
    "plt.tight_layout()\n",
    "plt.show()"
   ]
  },
  {
   "cell_type": "markdown",
   "metadata": {},
   "source": [
    "#### We see that \"income\", \"gdpp\" & \"life_expec\" varialbes are high on PC1 and \"exports\" & \"imports\" are high on PC2 \n",
    "<br>\n",
    "<br>"
   ]
  },
  {
   "cell_type": "code",
   "execution_count": 16,
   "metadata": {
    "scrolled": false
   },
   "outputs": [
    {
     "data": {
      "text/plain": [
       "array([0.4595174 , 0.17181626, 0.13004259, 0.11053162, 0.07340211,\n",
       "       0.02484235, 0.0126043 , 0.00981282, 0.00743056])"
      ]
     },
     "execution_count": 16,
     "metadata": {},
     "output_type": "execute_result"
    }
   ],
   "source": [
    "#variance ratio among the PCs formed\n",
    "pca.explained_variance_ratio_"
   ]
  },
  {
   "cell_type": "markdown",
   "metadata": {},
   "source": [
    "#### Looking at the screeplot to assess the number of needed principal components"
   ]
  },
  {
   "cell_type": "code",
   "execution_count": 17,
   "metadata": {},
   "outputs": [
    {
     "data": {
      "image/png": "[encoded data removed]",
      "text/plain": [
       "<Figure size 864x576 with 1 Axes>"
      ]
     },
     "metadata": {},
     "output_type": "display_data"
    }
   ],
   "source": [
    "#Making the screeplot - plotting the cumulative variance against the number of components\n",
    "%matplotlib inline\n",
    "fig = plt.figure(figsize = (12,8))\n",
    "plt.plot(np.cumsum(pca.explained_variance_ratio_))\n",
    "plt.xlabel('number of components')\n",
    "plt.ylabel('cumulative explained variance')\n",
    "plt.show()"
   ]
  },
  {
   "cell_type": "markdown",
   "metadata": {},
   "source": [
    "#### Looks like 5 components are enough to describe 95% of the variance in the dataset\n",
    "- We'll choose 5 components for our modeling"
   ]
  },
  {
   "cell_type": "code",
   "execution_count": 18,
   "metadata": {},
   "outputs": [],
   "source": [
    "#Using incremental PCA for efficiency - saves a lot of time on larger datasets\n",
    "from sklearn.decomposition import IncrementalPCA\n",
    "pca_final = IncrementalPCA(n_components=5)"
   ]
  },
  {
   "cell_type": "markdown",
   "metadata": {},
   "source": [
    "#### Basis transformation - getting the data onto our PCs"
   ]
  },
  {
   "cell_type": "code",
   "execution_count": 19,
   "metadata": {},
   "outputs": [
    {
     "data": {
      "text/plain": [
       "(167, 5)"
      ]
     },
     "execution_count": 19,
     "metadata": {},
     "output_type": "execute_result"
    }
   ],
   "source": [
    "df_pca = pca_final.fit_transform(cluster_norm)\n",
    "df_pca.shape"
   ]
  },
  {
   "cell_type": "markdown",
   "metadata": {},
   "source": [
    "#### Creating correlation matrix for the principal components "
   ]
  },
  {
   "cell_type": "code",
   "execution_count": 20,
   "metadata": {},
   "outputs": [],
   "source": [
    "#creating correlation matrix for the principal components\n",
    "corrmat = np.corrcoef(df_pca.transpose())"
   ]
  },
  {
   "cell_type": "code",
   "execution_count": 21,
   "metadata": {},
   "outputs": [
    {
     "data": {
      "text/plain": [
       "<matplotlib.axes._subplots.AxesSubplot at 0x282ad45a8d0>"
      ]
     },
     "execution_count": 21,
     "metadata": {},
     "output_type": "execute_result"
    },
    {
     "data": {
      "image/png": "[encoded data removed]",
      "text/plain": [
       "<Figure size 1440x720 with 2 Axes>"
      ]
     },
     "metadata": {},
     "output_type": "display_data"
    }
   ],
   "source": [
    "#plotting the correlation matrix\n",
    "%matplotlib inline\n",
    "plt.figure(figsize = (20,10))\n",
    "sns.heatmap(corrmat,annot = True)"
   ]
  },
  {
   "cell_type": "code",
   "execution_count": 22,
   "metadata": {},
   "outputs": [
    {
     "name": "stdout",
     "output_type": "stream",
     "text": [
      "max corr: 0.007194543060489871 , min corr:  -0.0023747044974955817\n"
     ]
    }
   ],
   "source": [
    "# 1s -> 0s in diagonals\n",
    "corrmat_nodiag = corrmat - np.diagflat(corrmat.diagonal())\n",
    "print(\"max corr:\",corrmat_nodiag.max(), \", min corr: \", corrmat_nodiag.min(),)\n",
    "# we see that correlations are indeed very close to 0"
   ]
  },
  {
   "cell_type": "markdown",
   "metadata": {},
   "source": [
    "#### The max and min is aprox equals to zero\n",
    "- Hence removed multicollinearity from the situation, and the models will be much more stable"
   ]
  },
  {
   "cell_type": "code",
   "execution_count": 23,
   "metadata": {
    "scrolled": true
   },
   "outputs": [
    {
     "data": {
      "text/html": [
       "<div>\n",
       "<style scoped>\n",
       "    .dataframe tbody tr th:only-of-type {\n",
       "        vertical-align: middle;\n",
       "    }\n",
       "\n",
       "    .dataframe tbody tr th {\n",
       "        vertical-align: top;\n",
       "    }\n",
       "\n",
       "    .dataframe thead th {\n",
       "        text-align: right;\n",
       "    }\n",
       "</style>\n",
       "<table border=\"1\" class=\"dataframe\">\n",
       "  <thead>\n",
       "    <tr style=\"text-align: right;\">\n",
       "      <th></th>\n",
       "      <th>0</th>\n",
       "      <th>1</th>\n",
       "      <th>2</th>\n",
       "      <th>3</th>\n",
       "      <th>4</th>\n",
       "    </tr>\n",
       "  </thead>\n",
       "  <tbody>\n",
       "    <tr>\n",
       "      <th>0</th>\n",
       "      <td>-2.913000</td>\n",
       "      <td>0.091969</td>\n",
       "      <td>-0.721242</td>\n",
       "      <td>1.001838</td>\n",
       "      <td>-0.146765</td>\n",
       "    </tr>\n",
       "    <tr>\n",
       "      <th>1</th>\n",
       "      <td>0.429870</td>\n",
       "      <td>-0.589373</td>\n",
       "      <td>-0.328611</td>\n",
       "      <td>-1.165014</td>\n",
       "      <td>0.153205</td>\n",
       "    </tr>\n",
       "    <tr>\n",
       "      <th>2</th>\n",
       "      <td>-0.285289</td>\n",
       "      <td>-0.452139</td>\n",
       "      <td>1.232051</td>\n",
       "      <td>-0.857767</td>\n",
       "      <td>0.191227</td>\n",
       "    </tr>\n",
       "    <tr>\n",
       "      <th>3</th>\n",
       "      <td>-2.932714</td>\n",
       "      <td>1.698771</td>\n",
       "      <td>1.525076</td>\n",
       "      <td>0.855595</td>\n",
       "      <td>-0.214778</td>\n",
       "    </tr>\n",
       "    <tr>\n",
       "      <th>4</th>\n",
       "      <td>1.033371</td>\n",
       "      <td>0.133853</td>\n",
       "      <td>-0.216699</td>\n",
       "      <td>-0.846638</td>\n",
       "      <td>-0.193186</td>\n",
       "    </tr>\n",
       "  </tbody>\n",
       "</table>\n",
       "</div>"
      ],
      "text/plain": [
       "          0         1         2         3         4\n",
       "0 -2.913000  0.091969 -0.721242  1.001838 -0.146765\n",
       "1  0.429870 -0.589373 -0.328611 -1.165014  0.153205\n",
       "2 -0.285289 -0.452139  1.232051 -0.857767  0.191227\n",
       "3 -2.932714  1.698771  1.525076  0.855595 -0.214778\n",
       "4  1.033371  0.133853 -0.216699 -0.846638 -0.193186"
      ]
     },
     "execution_count": 23,
     "metadata": {},
     "output_type": "execute_result"
    }
   ],
   "source": [
    "#Converting the array into Dataframe\n",
    "df_pca = pd.DataFrame(df_pca)\n",
    "df_pca.head()"
   ]
  },
  {
   "cell_type": "code",
   "execution_count": 24,
   "metadata": {},
   "outputs": [
    {
     "data": {
      "text/plain": [
       "(167, 5)"
      ]
     },
     "execution_count": 24,
     "metadata": {},
     "output_type": "execute_result"
    }
   ],
   "source": [
    "df_pca.shape"
   ]
  },
  {
   "cell_type": "markdown",
   "metadata": {},
   "source": [
    "## Outliers"
   ]
  },
  {
   "cell_type": "code",
   "execution_count": 25,
   "metadata": {
    "scrolled": true
   },
   "outputs": [],
   "source": [
    "#df_pca.describe()"
   ]
  },
  {
   "cell_type": "code",
   "execution_count": 26,
   "metadata": {},
   "outputs": [],
   "source": [
    "#low = .0\n",
    "#high = .92\n",
    "#quant_df = df_pca.quantile([low, high])\n",
    "#print(quant_df)"
   ]
  },
  {
   "cell_type": "code",
   "execution_count": 27,
   "metadata": {},
   "outputs": [],
   "source": [
    "#df_pca = df_pca.apply(lambda x: x[(x>quant_df.loc[low,x.name]) & (x < quant_df.loc[high,x.name])], axis=0)"
   ]
  },
  {
   "cell_type": "code",
   "execution_count": 28,
   "metadata": {},
   "outputs": [],
   "source": [
    "#df_pca.dropna(inplace=True)\n",
    "#print(df_pca.head())"
   ]
  },
  {
   "cell_type": "code",
   "execution_count": 29,
   "metadata": {},
   "outputs": [],
   "source": [
    "#df_pca.describe()"
   ]
  },
  {
   "cell_type": "code",
   "execution_count": 30,
   "metadata": {},
   "outputs": [],
   "source": [
    "#df_pca.shape"
   ]
  },
  {
   "cell_type": "markdown",
   "metadata": {},
   "source": [
    "### Hopkins Statistics"
   ]
  },
  {
   "cell_type": "code",
   "execution_count": 31,
   "metadata": {},
   "outputs": [],
   "source": [
    "#importing the necessary package\n",
    "from sklearn.neighbors import NearestNeighbors\n",
    "from random import sample\n",
    "from numpy.random import uniform\n",
    "import numpy as np\n",
    "from math import isnan\n",
    " \n",
    "def hopkins(X):\n",
    "    d = X.shape[1]\n",
    "    #d = len(vars) # columns\n",
    "    n = len(X) # rows\n",
    "    m = int(0.1 * n) \n",
    "    nbrs = NearestNeighbors(n_neighbors=1).fit(X.values)\n",
    " \n",
    "    rand_X = sample(range(0, n, 1), m)\n",
    " \n",
    "    ujd = []\n",
    "    wjd = []\n",
    "    for j in range(0, m):\n",
    "        u_dist, _ = nbrs.kneighbors(uniform(np.amin(X,axis=0),np.amax(X,axis=0),d).reshape(1, -1), 2, return_distance=True)\n",
    "        ujd.append(u_dist[0][1])\n",
    "        w_dist, _ = nbrs.kneighbors(X.iloc[rand_X[j]].values.reshape(1, -1), 2, return_distance=True)\n",
    "        wjd.append(w_dist[0][1])\n",
    " \n",
    "    H = sum(ujd) / (sum(ujd) + sum(wjd))\n",
    "    if isnan(H):\n",
    "        print(ujd, wjd)\n",
    "        H = 0\n",
    " \n",
    "    return H"
   ]
  },
  {
   "cell_type": "code",
   "execution_count": 32,
   "metadata": {},
   "outputs": [
    {
     "data": {
      "text/plain": [
       "0.8814964700267442"
      ]
     },
     "execution_count": 32,
     "metadata": {},
     "output_type": "execute_result"
    }
   ],
   "source": [
    "hopkins(df_pca)"
   ]
  },
  {
   "cell_type": "markdown",
   "metadata": {},
   "source": [
    "#### - If the value is between {0.7, ..., 0.99}, it has a high tendency to cluster.\n",
    "<br>\n",
    "So it looks good to form high tendency to cluster"
   ]
  },
  {
   "cell_type": "markdown",
   "metadata": {},
   "source": [
    "## K-Means Clustering\n",
    "<br>\n",
    "#### K-Means with K=5"
   ]
  },
  {
   "cell_type": "code",
   "execution_count": 33,
   "metadata": {},
   "outputs": [
    {
     "data": {
      "text/plain": [
       "KMeans(max_iter=50, n_clusters=5)"
      ]
     },
     "execution_count": 33,
     "metadata": {},
     "output_type": "execute_result"
    }
   ],
   "source": [
    "# Kmeans with K=5\n",
    "model_clus5 = KMeans(n_clusters = 5, max_iter=50)\n",
    "model_clus5.fit(df_pca)"
   ]
  },
  {
   "cell_type": "markdown",
   "metadata": {},
   "source": [
    "### Silhouette Analysis"
   ]
  },
  {
   "cell_type": "code",
   "execution_count": 34,
   "metadata": {},
   "outputs": [],
   "source": [
    "#importing the package\n",
    "from sklearn.metrics import silhouette_score\n",
    "sse_ = []\n",
    "for k in range(2, 15):\n",
    "    kmeans = KMeans(n_clusters=k).fit(df_pca)\n",
    "    sse_.append([k, silhouette_score(df_pca, kmeans.labels_)])"
   ]
  },
  {
   "cell_type": "code",
   "execution_count": 35,
   "metadata": {},
   "outputs": [
    {
     "data": {
      "image/png": "[encoded data removed]",
      "text/plain": [
       "<Figure size 432x288 with 1 Axes>"
      ]
     },
     "metadata": {},
     "output_type": "display_data"
    }
   ],
   "source": [
    "#plotting the Silhouette curve\n",
    "plt.plot(pd.DataFrame(sse_)[0], pd.DataFrame(sse_)[1]);"
   ]
  },
  {
   "cell_type": "markdown",
   "metadata": {},
   "source": [
    "Looks like between 3 & 5 the value of K should be"
   ]
  },
  {
   "cell_type": "markdown",
   "metadata": {},
   "source": [
    "### Sum of Squared Distances"
   ]
  },
  {
   "cell_type": "code",
   "execution_count": 36,
   "metadata": {
    "scrolled": true
   },
   "outputs": [
    {
     "name": "stderr",
     "output_type": "stream",
     "text": [
      "C:\\Users\\HP\\Anaconda3\\lib\\site-packages\\sklearn\\cluster\\_kmeans.py:882: UserWarning: KMeans is known to have a memory leak on Windows with MKL, when there are less chunks than available threads. You can avoid it by setting the environment variable OMP_NUM_THREADS=1.\n",
      "  f\"KMeans is known to have a memory leak on Windows \"\n"
     ]
    },
    {
     "data": {
      "text/plain": [
       "[<matplotlib.lines.Line2D at 0x282ad8a78d0>]"
      ]
     },
     "execution_count": 36,
     "metadata": {},
     "output_type": "execute_result"
    },
    {
     "data": {
      "image/png": "[encoded data removed]",
      "text/plain": [
       "<Figure size 432x288 with 1 Axes>"
      ]
     },
     "metadata": {},
     "output_type": "display_data"
    }
   ],
   "source": [
    "# sum of squared distances\n",
    "ssd = []\n",
    "for num_clusters in list(range(1,21)):\n",
    "    model_clus = KMeans(n_clusters = num_clusters, max_iter=50)\n",
    "    model_clus.fit(df_pca)\n",
    "    ssd.append(model_clus.inertia_)\n",
    "\n",
    "plt.plot(ssd)"
   ]
  },
  {
   "cell_type": "markdown",
   "metadata": {},
   "source": [
    "The curve also indicates similar result between 3 to 5"
   ]
  },
  {
   "cell_type": "markdown",
   "metadata": {},
   "source": [
    "#### Analysis of the Cluster"
   ]
  },
  {
   "cell_type": "code",
   "execution_count": 37,
   "metadata": {},
   "outputs": [],
   "source": [
    "# analysis of clusters formed\n",
    "country_data.index = pd.RangeIndex(len(country_data.index))\n",
    "cluster_km5 = pd.concat([country_data, pd.Series(model_clus5.labels_)], axis=1)\n",
    "cluster_km5.columns = ['index','country','child_mort','exports','health','imports','income','inflation','life_expec','total_fer','gdpp','clusterId']"
   ]
  },
  {
   "cell_type": "code",
   "execution_count": 38,
   "metadata": {},
   "outputs": [
    {
     "data": {
      "text/html": [
       "<div>\n",
       "<style scoped>\n",
       "    .dataframe tbody tr th:only-of-type {\n",
       "        vertical-align: middle;\n",
       "    }\n",
       "\n",
       "    .dataframe tbody tr th {\n",
       "        vertical-align: top;\n",
       "    }\n",
       "\n",
       "    .dataframe thead th {\n",
       "        text-align: right;\n",
       "    }\n",
       "</style>\n",
       "<table border=\"1\" class=\"dataframe\">\n",
       "  <thead>\n",
       "    <tr style=\"text-align: right;\">\n",
       "      <th></th>\n",
       "      <th>index</th>\n",
       "      <th>country</th>\n",
       "      <th>child_mort</th>\n",
       "      <th>exports</th>\n",
       "      <th>health</th>\n",
       "      <th>imports</th>\n",
       "      <th>income</th>\n",
       "      <th>inflation</th>\n",
       "      <th>life_expec</th>\n",
       "      <th>total_fer</th>\n",
       "      <th>gdpp</th>\n",
       "      <th>clusterId</th>\n",
       "    </tr>\n",
       "  </thead>\n",
       "  <tbody>\n",
       "    <tr>\n",
       "      <th>0</th>\n",
       "      <td>0</td>\n",
       "      <td>Afghanistan</td>\n",
       "      <td>90.2</td>\n",
       "      <td>10.0</td>\n",
       "      <td>7.58</td>\n",
       "      <td>44.9</td>\n",
       "      <td>1610</td>\n",
       "      <td>9.44</td>\n",
       "      <td>56.2</td>\n",
       "      <td>5.82</td>\n",
       "      <td>553</td>\n",
       "      <td>0</td>\n",
       "    </tr>\n",
       "    <tr>\n",
       "      <th>1</th>\n",
       "      <td>1</td>\n",
       "      <td>Albania</td>\n",
       "      <td>16.6</td>\n",
       "      <td>28.0</td>\n",
       "      <td>6.55</td>\n",
       "      <td>48.6</td>\n",
       "      <td>9930</td>\n",
       "      <td>4.49</td>\n",
       "      <td>76.3</td>\n",
       "      <td>1.65</td>\n",
       "      <td>4090</td>\n",
       "      <td>2</td>\n",
       "    </tr>\n",
       "    <tr>\n",
       "      <th>2</th>\n",
       "      <td>2</td>\n",
       "      <td>Algeria</td>\n",
       "      <td>27.3</td>\n",
       "      <td>38.4</td>\n",
       "      <td>4.17</td>\n",
       "      <td>31.4</td>\n",
       "      <td>12900</td>\n",
       "      <td>16.10</td>\n",
       "      <td>76.5</td>\n",
       "      <td>2.89</td>\n",
       "      <td>4460</td>\n",
       "      <td>2</td>\n",
       "    </tr>\n",
       "    <tr>\n",
       "      <th>3</th>\n",
       "      <td>3</td>\n",
       "      <td>Angola</td>\n",
       "      <td>119.0</td>\n",
       "      <td>62.3</td>\n",
       "      <td>2.85</td>\n",
       "      <td>42.9</td>\n",
       "      <td>5900</td>\n",
       "      <td>22.40</td>\n",
       "      <td>60.1</td>\n",
       "      <td>6.16</td>\n",
       "      <td>3530</td>\n",
       "      <td>0</td>\n",
       "    </tr>\n",
       "    <tr>\n",
       "      <th>4</th>\n",
       "      <td>4</td>\n",
       "      <td>Antigua and Barbuda</td>\n",
       "      <td>10.3</td>\n",
       "      <td>45.5</td>\n",
       "      <td>6.03</td>\n",
       "      <td>58.9</td>\n",
       "      <td>19100</td>\n",
       "      <td>1.44</td>\n",
       "      <td>76.8</td>\n",
       "      <td>2.13</td>\n",
       "      <td>12200</td>\n",
       "      <td>2</td>\n",
       "    </tr>\n",
       "  </tbody>\n",
       "</table>\n",
       "</div>"
      ],
      "text/plain": [
       "   index              country  child_mort  exports  health  imports  income  \\\n",
       "0      0          Afghanistan        90.2     10.0    7.58     44.9    1610   \n",
       "1      1              Albania        16.6     28.0    6.55     48.6    9930   \n",
       "2      2              Algeria        27.3     38.4    4.17     31.4   12900   \n",
       "3      3               Angola       119.0     62.3    2.85     42.9    5900   \n",
       "4      4  Antigua and Barbuda        10.3     45.5    6.03     58.9   19100   \n",
       "\n",
       "   inflation  life_expec  total_fer   gdpp  clusterId  \n",
       "0       9.44        56.2       5.82    553          0  \n",
       "1       4.49        76.3       1.65   4090          2  \n",
       "2      16.10        76.5       2.89   4460          2  \n",
       "3      22.40        60.1       6.16   3530          0  \n",
       "4       1.44        76.8       2.13  12200          2  "
      ]
     },
     "execution_count": 38,
     "metadata": {},
     "output_type": "execute_result"
    }
   ],
   "source": [
    "cluster_km5.head()"
   ]
  },
  {
   "cell_type": "markdown",
   "metadata": {},
   "source": [
    "#### Visualizing the Data with the clusters formed"
   ]
  },
  {
   "cell_type": "code",
   "execution_count": 39,
   "metadata": {},
   "outputs": [
    {
     "data": {
      "image/png": "[encoded data removed]",
      "text/plain": [
       "<Figure size 1440x864 with 6 Axes>"
      ]
     },
     "metadata": {},
     "output_type": "display_data"
    }
   ],
   "source": [
    "# Create subplots(By default Average)\n",
    "# increase figure size \n",
    "plt.figure(figsize=(20, 12))\n",
    "# subplot 1\n",
    "plt.subplot(2, 3, 1)\n",
    "sns.barplot(x='clusterId', y='child_mort', data=cluster_km5)\n",
    "# subplot 2\n",
    "plt.subplot(2, 3, 2)\n",
    "sns.barplot(x='clusterId', y='exports', data=cluster_km5)\n",
    "# subplot 3\n",
    "plt.subplot(2, 3, 3)\n",
    "sns.barplot(x='clusterId', y='health', data=cluster_km5)\n",
    "# subplot 4\n",
    "plt.subplot(2, 3, 4)\n",
    "sns.barplot(x='clusterId', y='imports', data=cluster_km5)\n",
    "# subplot 5\n",
    "plt.subplot(2, 3, 5)\n",
    "sns.barplot(x='clusterId', y='income', data=cluster_km5)\n",
    "# subplot 6\n",
    "plt.subplot(2, 3, 6)\n",
    "sns.barplot(x='clusterId', y='inflation', data=cluster_km5)\n",
    "plt.show()"
   ]
  },
  {
   "cell_type": "code",
   "execution_count": 40,
   "metadata": {},
   "outputs": [
    {
     "data": {
      "image/png": "[encoded data removed]",
      "text/plain": [
       "<Figure size 1440x864 with 3 Axes>"
      ]
     },
     "metadata": {},
     "output_type": "display_data"
    }
   ],
   "source": [
    "# Create subplots(By default Average)\n",
    "# increase figure size \n",
    "plt.figure(figsize=(20, 12))\n",
    "# subplot 1\n",
    "plt.subplot(2, 3, 1)\n",
    "sns.barplot(x='clusterId', y='life_expec', data=cluster_km5)\n",
    "# subplot 2\n",
    "plt.subplot(2, 3, 2)\n",
    "sns.barplot(x='clusterId', y='total_fer', data=cluster_km5)\n",
    "# subplot 3\n",
    "plt.subplot(2, 3, 3)\n",
    "sns.barplot(x='clusterId', y='gdpp', data=cluster_km5)\n",
    "plt.show()"
   ]
  },
  {
   "cell_type": "markdown",
   "metadata": {},
   "source": [
    "#### Filtering out the Data among the Clusters Formed "
   ]
  },
  {
   "cell_type": "code",
   "execution_count": 41,
   "metadata": {},
   "outputs": [],
   "source": [
    "Filter_0_5 = cluster_km5[cluster_km5['clusterId'].isin(['0'])]\n",
    "Filter_1_5 = cluster_km5[cluster_km5['clusterId'].isin(['1'])]\n",
    "Filter_2_5 = cluster_km5[cluster_km5['clusterId'].isin(['2'])]\n",
    "Filter_3_5 = cluster_km5[cluster_km5['clusterId'].isin(['3'])]\n",
    "Filter_4_5 = cluster_km5[cluster_km5['clusterId'].isin(['4'])]"
   ]
  },
  {
   "cell_type": "code",
   "execution_count": 42,
   "metadata": {},
   "outputs": [
    {
     "name": "stdout",
     "output_type": "stream",
     "text": [
      "(47, 12)\n",
      "(30, 12)\n",
      "(86, 12)\n",
      "(3, 12)\n",
      "(1, 12)\n"
     ]
    }
   ],
   "source": [
    "print(Filter_0_5.shape)\n",
    "print(Filter_1_5.shape)\n",
    "print(Filter_2_5.shape)\n",
    "print(Filter_3_5.shape)\n",
    "print(Filter_4_5.shape)"
   ]
  },
  {
   "cell_type": "markdown",
   "metadata": {},
   "source": [
    "Based on the visualization above Cluster 1 stands out based on the key attributes 'child_mort', 'exports', 'income', 'life_expec' and 'gdpp' which are also the key PCs as shown in the scatter plot"
   ]
  },
  {
   "cell_type": "code",
   "execution_count": 43,
   "metadata": {},
   "outputs": [],
   "source": [
    "Plot20_5 = Filter_1_5.head(20)"
   ]
  },
  {
   "cell_type": "code",
   "execution_count": 44,
   "metadata": {},
   "outputs": [
    {
     "data": {
      "image/png": "[encoded data removed]",
      "text/plain": [
       "<Figure size 1440x864 with 1 Axes>"
      ]
     },
     "metadata": {},
     "output_type": "display_data"
    }
   ],
   "source": [
    "plt.figure(figsize=(20, 12))\n",
    "sns.barplot(x='gdpp', y='country', data=Plot20_5)\n",
    "plt.show()"
   ]
  },
  {
   "cell_type": "markdown",
   "metadata": {},
   "source": [
    "#### K-Means with K=4"
   ]
  },
  {
   "cell_type": "code",
   "execution_count": 45,
   "metadata": {},
   "outputs": [
    {
     "data": {
      "text/plain": [
       "KMeans(max_iter=50, n_clusters=4)"
      ]
     },
     "execution_count": 45,
     "metadata": {},
     "output_type": "execute_result"
    }
   ],
   "source": [
    "# Kmeans with K=4\n",
    "model_clus4 = KMeans(n_clusters = 4, max_iter=50)\n",
    "model_clus4.fit(df_pca)"
   ]
  },
  {
   "cell_type": "markdown",
   "metadata": {},
   "source": [
    "#### Analysis of the Cluster"
   ]
  },
  {
   "cell_type": "code",
   "execution_count": 46,
   "metadata": {},
   "outputs": [
    {
     "data": {
      "text/html": [
       "<div>\n",
       "<style scoped>\n",
       "    .dataframe tbody tr th:only-of-type {\n",
       "        vertical-align: middle;\n",
       "    }\n",
       "\n",
       "    .dataframe tbody tr th {\n",
       "        vertical-align: top;\n",
       "    }\n",
       "\n",
       "    .dataframe thead th {\n",
       "        text-align: right;\n",
       "    }\n",
       "</style>\n",
       "<table border=\"1\" class=\"dataframe\">\n",
       "  <thead>\n",
       "    <tr style=\"text-align: right;\">\n",
       "      <th></th>\n",
       "      <th>index</th>\n",
       "      <th>country</th>\n",
       "      <th>child_mort</th>\n",
       "      <th>exports</th>\n",
       "      <th>health</th>\n",
       "      <th>imports</th>\n",
       "      <th>income</th>\n",
       "      <th>inflation</th>\n",
       "      <th>life_expec</th>\n",
       "      <th>total_fer</th>\n",
       "      <th>gdpp</th>\n",
       "      <th>clusterId</th>\n",
       "    </tr>\n",
       "  </thead>\n",
       "  <tbody>\n",
       "    <tr>\n",
       "      <th>0</th>\n",
       "      <td>0</td>\n",
       "      <td>Afghanistan</td>\n",
       "      <td>90.2</td>\n",
       "      <td>10.0</td>\n",
       "      <td>7.58</td>\n",
       "      <td>44.9</td>\n",
       "      <td>1610</td>\n",
       "      <td>9.44</td>\n",
       "      <td>56.2</td>\n",
       "      <td>5.82</td>\n",
       "      <td>553</td>\n",
       "      <td>2</td>\n",
       "    </tr>\n",
       "    <tr>\n",
       "      <th>1</th>\n",
       "      <td>1</td>\n",
       "      <td>Albania</td>\n",
       "      <td>16.6</td>\n",
       "      <td>28.0</td>\n",
       "      <td>6.55</td>\n",
       "      <td>48.6</td>\n",
       "      <td>9930</td>\n",
       "      <td>4.49</td>\n",
       "      <td>76.3</td>\n",
       "      <td>1.65</td>\n",
       "      <td>4090</td>\n",
       "      <td>1</td>\n",
       "    </tr>\n",
       "    <tr>\n",
       "      <th>2</th>\n",
       "      <td>2</td>\n",
       "      <td>Algeria</td>\n",
       "      <td>27.3</td>\n",
       "      <td>38.4</td>\n",
       "      <td>4.17</td>\n",
       "      <td>31.4</td>\n",
       "      <td>12900</td>\n",
       "      <td>16.10</td>\n",
       "      <td>76.5</td>\n",
       "      <td>2.89</td>\n",
       "      <td>4460</td>\n",
       "      <td>1</td>\n",
       "    </tr>\n",
       "    <tr>\n",
       "      <th>3</th>\n",
       "      <td>3</td>\n",
       "      <td>Angola</td>\n",
       "      <td>119.0</td>\n",
       "      <td>62.3</td>\n",
       "      <td>2.85</td>\n",
       "      <td>42.9</td>\n",
       "      <td>5900</td>\n",
       "      <td>22.40</td>\n",
       "      <td>60.1</td>\n",
       "      <td>6.16</td>\n",
       "      <td>3530</td>\n",
       "      <td>2</td>\n",
       "    </tr>\n",
       "    <tr>\n",
       "      <th>4</th>\n",
       "      <td>4</td>\n",
       "      <td>Antigua and Barbuda</td>\n",
       "      <td>10.3</td>\n",
       "      <td>45.5</td>\n",
       "      <td>6.03</td>\n",
       "      <td>58.9</td>\n",
       "      <td>19100</td>\n",
       "      <td>1.44</td>\n",
       "      <td>76.8</td>\n",
       "      <td>2.13</td>\n",
       "      <td>12200</td>\n",
       "      <td>1</td>\n",
       "    </tr>\n",
       "  </tbody>\n",
       "</table>\n",
       "</div>"
      ],
      "text/plain": [
       "   index              country  child_mort  exports  health  imports  income  \\\n",
       "0      0          Afghanistan        90.2     10.0    7.58     44.9    1610   \n",
       "1      1              Albania        16.6     28.0    6.55     48.6    9930   \n",
       "2      2              Algeria        27.3     38.4    4.17     31.4   12900   \n",
       "3      3               Angola       119.0     62.3    2.85     42.9    5900   \n",
       "4      4  Antigua and Barbuda        10.3     45.5    6.03     58.9   19100   \n",
       "\n",
       "   inflation  life_expec  total_fer   gdpp  clusterId  \n",
       "0       9.44        56.2       5.82    553          2  \n",
       "1       4.49        76.3       1.65   4090          1  \n",
       "2      16.10        76.5       2.89   4460          1  \n",
       "3      22.40        60.1       6.16   3530          2  \n",
       "4       1.44        76.8       2.13  12200          1  "
      ]
     },
     "execution_count": 46,
     "metadata": {},
     "output_type": "execute_result"
    }
   ],
   "source": [
    "# analysis of clusters formed\n",
    "country_data.index = pd.RangeIndex(len(country_data.index))\n",
    "cluster_km4 = pd.concat([country_data, pd.Series(model_clus4.labels_)], axis=1)\n",
    "cluster_km4.columns = ['index','country','child_mort','exports','health','imports','income','inflation','life_expec','total_fer','gdpp','clusterId']\n",
    "cluster_km4.head()"
   ]
  },
  {
   "cell_type": "markdown",
   "metadata": {},
   "source": [
    "#### Visualizing the Data with the clusters formed"
   ]
  },
  {
   "cell_type": "code",
   "execution_count": 47,
   "metadata": {},
   "outputs": [
    {
     "data": {
      "image/png": "[encoded data removed]",
      "text/plain": [
       "<Figure size 1440x864 with 6 Axes>"
      ]
     },
     "metadata": {},
     "output_type": "display_data"
    }
   ],
   "source": [
    "# Create subplots(By default Average)\n",
    "# increase figure size \n",
    "plt.figure(figsize=(20, 12))\n",
    "# subplot 1\n",
    "plt.subplot(2, 3, 1)\n",
    "sns.barplot(x='clusterId', y='child_mort', data=cluster_km4)\n",
    "# subplot 2\n",
    "plt.subplot(2, 3, 2)\n",
    "sns.barplot(x='clusterId', y='exports', data=cluster_km4)\n",
    "# subplot 3\n",
    "plt.subplot(2, 3, 3)\n",
    "sns.barplot(x='clusterId', y='health', data=cluster_km4)\n",
    "# subplot 4\n",
    "plt.subplot(2, 3, 4)\n",
    "sns.barplot(x='clusterId', y='imports', data=cluster_km4)\n",
    "# subplot 5\n",
    "plt.subplot(2, 3, 5)\n",
    "sns.barplot(x='clusterId', y='income', data=cluster_km4)\n",
    "# subplot 6\n",
    "plt.subplot(2, 3, 6)\n",
    "sns.barplot(x='clusterId', y='inflation', data=cluster_km4)\n",
    "plt.show()"
   ]
  },
  {
   "cell_type": "code",
   "execution_count": 48,
   "metadata": {},
   "outputs": [
    {
     "data": {
      "image/png": "[encoded data removed]",
      "text/plain": [
       "<Figure size 1440x864 with 3 Axes>"
      ]
     },
     "metadata": {},
     "output_type": "display_data"
    }
   ],
   "source": [
    "# Create subplots(By default Average)\n",
    "# increase figure size \n",
    "plt.figure(figsize=(20, 12))\n",
    "# subplot 1\n",
    "plt.subplot(2, 3, 1)\n",
    "sns.barplot(x='clusterId', y='life_expec', data=cluster_km4)\n",
    "# subplot 2\n",
    "plt.subplot(2, 3, 2)\n",
    "sns.barplot(x='clusterId', y='total_fer', data=cluster_km4)\n",
    "# subplot 3\n",
    "plt.subplot(2, 3, 3)\n",
    "sns.barplot(x='clusterId', y='gdpp', data=cluster_km4)\n",
    "plt.show()"
   ]
  },
  {
   "cell_type": "markdown",
   "metadata": {},
   "source": [
    "#### Filtering out the Data among the Clusters Formed"
   ]
  },
  {
   "cell_type": "code",
   "execution_count": 49,
   "metadata": {},
   "outputs": [],
   "source": [
    "Filter_0_4 = cluster_km4[cluster_km4['clusterId'].isin(['0'])]\n",
    "Filter_1_4 = cluster_km4[cluster_km4['clusterId'].isin(['1'])]\n",
    "Filter_2_4 = cluster_km4[cluster_km4['clusterId'].isin(['2'])]\n",
    "Filter_3_4 = cluster_km4[cluster_km4['clusterId'].isin(['3'])]"
   ]
  },
  {
   "cell_type": "code",
   "execution_count": 50,
   "metadata": {},
   "outputs": [
    {
     "name": "stdout",
     "output_type": "stream",
     "text": [
      "(32, 12)\n",
      "(85, 12)\n",
      "(47, 12)\n",
      "(3, 12)\n"
     ]
    }
   ],
   "source": [
    "print(Filter_0_4.shape)\n",
    "print(Filter_1_4.shape)\n",
    "print(Filter_2_4.shape)\n",
    "print(Filter_3_4.shape)"
   ]
  },
  {
   "cell_type": "markdown",
   "metadata": {},
   "source": [
    "Based on the visualization above Cluster 1 stands out based on the key attributes 'child_mort', 'exports', 'income', 'life_expec', 'gdpp', 'health' which are also the key PCs as shown in the scatter plot"
   ]
  },
  {
   "cell_type": "code",
   "execution_count": 51,
   "metadata": {},
   "outputs": [],
   "source": [
    "Plot20_4 = Filter_1_4.head(20)"
   ]
  },
  {
   "cell_type": "code",
   "execution_count": 52,
   "metadata": {},
   "outputs": [
    {
     "data": {
      "image/png": "[encoded data removed]",
      "text/plain": [
       "<Figure size 1440x864 with 1 Axes>"
      ]
     },
     "metadata": {},
     "output_type": "display_data"
    }
   ],
   "source": [
    "plt.figure(figsize=(20, 12))\n",
    "sns.barplot(x='gdpp', y='country', data=Plot20_4)\n",
    "plt.show()"
   ]
  },
  {
   "cell_type": "markdown",
   "metadata": {},
   "source": [
    "#### K-Means with K=3"
   ]
  },
  {
   "cell_type": "code",
   "execution_count": 53,
   "metadata": {},
   "outputs": [
    {
     "data": {
      "text/plain": [
       "KMeans(max_iter=50, n_clusters=3)"
      ]
     },
     "execution_count": 53,
     "metadata": {},
     "output_type": "execute_result"
    }
   ],
   "source": [
    "# Kmeans with K=3\n",
    "model_clus3 = KMeans(n_clusters = 3, max_iter=50)\n",
    "model_clus3.fit(df_pca)"
   ]
  },
  {
   "cell_type": "markdown",
   "metadata": {},
   "source": [
    "#### Analysis of the Cluster"
   ]
  },
  {
   "cell_type": "code",
   "execution_count": 54,
   "metadata": {},
   "outputs": [
    {
     "data": {
      "text/html": [
       "<div>\n",
       "<style scoped>\n",
       "    .dataframe tbody tr th:only-of-type {\n",
       "        vertical-align: middle;\n",
       "    }\n",
       "\n",
       "    .dataframe tbody tr th {\n",
       "        vertical-align: top;\n",
       "    }\n",
       "\n",
       "    .dataframe thead th {\n",
       "        text-align: right;\n",
       "    }\n",
       "</style>\n",
       "<table border=\"1\" class=\"dataframe\">\n",
       "  <thead>\n",
       "    <tr style=\"text-align: right;\">\n",
       "      <th></th>\n",
       "      <th>index</th>\n",
       "      <th>country</th>\n",
       "      <th>child_mort</th>\n",
       "      <th>exports</th>\n",
       "      <th>health</th>\n",
       "      <th>imports</th>\n",
       "      <th>income</th>\n",
       "      <th>inflation</th>\n",
       "      <th>life_expec</th>\n",
       "      <th>total_fer</th>\n",
       "      <th>gdpp</th>\n",
       "      <th>clusterId</th>\n",
       "    </tr>\n",
       "  </thead>\n",
       "  <tbody>\n",
       "    <tr>\n",
       "      <th>0</th>\n",
       "      <td>0</td>\n",
       "      <td>Afghanistan</td>\n",
       "      <td>90.2</td>\n",
       "      <td>10.0</td>\n",
       "      <td>7.58</td>\n",
       "      <td>44.9</td>\n",
       "      <td>1610</td>\n",
       "      <td>9.44</td>\n",
       "      <td>56.2</td>\n",
       "      <td>5.82</td>\n",
       "      <td>553</td>\n",
       "      <td>0</td>\n",
       "    </tr>\n",
       "    <tr>\n",
       "      <th>1</th>\n",
       "      <td>1</td>\n",
       "      <td>Albania</td>\n",
       "      <td>16.6</td>\n",
       "      <td>28.0</td>\n",
       "      <td>6.55</td>\n",
       "      <td>48.6</td>\n",
       "      <td>9930</td>\n",
       "      <td>4.49</td>\n",
       "      <td>76.3</td>\n",
       "      <td>1.65</td>\n",
       "      <td>4090</td>\n",
       "      <td>1</td>\n",
       "    </tr>\n",
       "    <tr>\n",
       "      <th>2</th>\n",
       "      <td>2</td>\n",
       "      <td>Algeria</td>\n",
       "      <td>27.3</td>\n",
       "      <td>38.4</td>\n",
       "      <td>4.17</td>\n",
       "      <td>31.4</td>\n",
       "      <td>12900</td>\n",
       "      <td>16.10</td>\n",
       "      <td>76.5</td>\n",
       "      <td>2.89</td>\n",
       "      <td>4460</td>\n",
       "      <td>1</td>\n",
       "    </tr>\n",
       "    <tr>\n",
       "      <th>3</th>\n",
       "      <td>3</td>\n",
       "      <td>Angola</td>\n",
       "      <td>119.0</td>\n",
       "      <td>62.3</td>\n",
       "      <td>2.85</td>\n",
       "      <td>42.9</td>\n",
       "      <td>5900</td>\n",
       "      <td>22.40</td>\n",
       "      <td>60.1</td>\n",
       "      <td>6.16</td>\n",
       "      <td>3530</td>\n",
       "      <td>0</td>\n",
       "    </tr>\n",
       "    <tr>\n",
       "      <th>4</th>\n",
       "      <td>4</td>\n",
       "      <td>Antigua and Barbuda</td>\n",
       "      <td>10.3</td>\n",
       "      <td>45.5</td>\n",
       "      <td>6.03</td>\n",
       "      <td>58.9</td>\n",
       "      <td>19100</td>\n",
       "      <td>1.44</td>\n",
       "      <td>76.8</td>\n",
       "      <td>2.13</td>\n",
       "      <td>12200</td>\n",
       "      <td>1</td>\n",
       "    </tr>\n",
       "  </tbody>\n",
       "</table>\n",
       "</div>"
      ],
      "text/plain": [
       "   index              country  child_mort  exports  health  imports  income  \\\n",
       "0      0          Afghanistan        90.2     10.0    7.58     44.9    1610   \n",
       "1      1              Albania        16.6     28.0    6.55     48.6    9930   \n",
       "2      2              Algeria        27.3     38.4    4.17     31.4   12900   \n",
       "3      3               Angola       119.0     62.3    2.85     42.9    5900   \n",
       "4      4  Antigua and Barbuda        10.3     45.5    6.03     58.9   19100   \n",
       "\n",
       "   inflation  life_expec  total_fer   gdpp  clusterId  \n",
       "0       9.44        56.2       5.82    553          0  \n",
       "1       4.49        76.3       1.65   4090          1  \n",
       "2      16.10        76.5       2.89   4460          1  \n",
       "3      22.40        60.1       6.16   3530          0  \n",
       "4       1.44        76.8       2.13  12200          1  "
      ]
     },
     "execution_count": 54,
     "metadata": {},
     "output_type": "execute_result"
    }
   ],
   "source": [
    "# analysis of clusters formed\n",
    "country_data.index = pd.RangeIndex(len(country_data.index))\n",
    "cluster_km3 = pd.concat([country_data, pd.Series(model_clus3.labels_)], axis=1)\n",
    "cluster_km3.columns = ['index','country','child_mort','exports','health','imports','income','inflation','life_expec','total_fer','gdpp','clusterId']\n",
    "cluster_km3.head()"
   ]
  },
  {
   "cell_type": "markdown",
   "metadata": {},
   "source": [
    "#### Visualizing the Data with the clusters formed"
   ]
  },
  {
   "cell_type": "code",
   "execution_count": 55,
   "metadata": {},
   "outputs": [
    {
     "data": {
      "image/png": "[encoded data removed]",
      "text/plain": [
       "<Figure size 1440x864 with 6 Axes>"
      ]
     },
     "metadata": {},
     "output_type": "display_data"
    }
   ],
   "source": [
    "# Create subplots(By default Average)\n",
    "# increase figure size \n",
    "plt.figure(figsize=(20, 12))\n",
    "# subplot 1\n",
    "plt.subplot(2, 3, 1)\n",
    "sns.barplot(x='clusterId', y='child_mort', data=cluster_km3)\n",
    "# subplot 2\n",
    "plt.subplot(2, 3, 2)\n",
    "sns.barplot(x='clusterId', y='exports', data=cluster_km3)\n",
    "# subplot 3\n",
    "plt.subplot(2, 3, 3)\n",
    "sns.barplot(x='clusterId', y='health', data=cluster_km3)\n",
    "# subplot 4\n",
    "plt.subplot(2, 3, 4)\n",
    "sns.barplot(x='clusterId', y='imports', data=cluster_km3)\n",
    "# subplot 5\n",
    "plt.subplot(2, 3, 5)\n",
    "sns.barplot(x='clusterId', y='income', data=cluster_km3)\n",
    "# subplot 6\n",
    "plt.subplot(2, 3, 6)\n",
    "sns.barplot(x='clusterId', y='inflation', data=cluster_km3)\n",
    "plt.show()"
   ]
  },
  {
   "cell_type": "code",
   "execution_count": 56,
   "metadata": {},
   "outputs": [
    {
     "data": {
      "image/png": "[encoded data removed]",
      "text/plain": [
       "<Figure size 1440x864 with 3 Axes>"
      ]
     },
     "metadata": {},
     "output_type": "display_data"
    }
   ],
   "source": [
    "# Create subplots(By default Average)\n",
    "# increase figure size \n",
    "plt.figure(figsize=(20, 12))\n",
    "# subplot 1\n",
    "plt.subplot(2, 3, 1)\n",
    "sns.barplot(x='clusterId', y='life_expec', data=cluster_km3)\n",
    "# subplot 2\n",
    "plt.subplot(2, 3, 2)\n",
    "sns.barplot(x='clusterId', y='total_fer', data=cluster_km3)\n",
    "# subplot 3\n",
    "plt.subplot(2, 3, 3)\n",
    "sns.barplot(x='clusterId', y='gdpp', data=cluster_km3)\n",
    "plt.show()"
   ]
  },
  {
   "cell_type": "markdown",
   "metadata": {},
   "source": [
    "#### Filtering out the Data among the Clusters Formed"
   ]
  },
  {
   "cell_type": "code",
   "execution_count": 57,
   "metadata": {},
   "outputs": [],
   "source": [
    "Filter_0_3 = cluster_km3[cluster_km3['clusterId'].isin(['0'])]\n",
    "Filter_1_3 = cluster_km3[cluster_km3['clusterId'].isin(['1'])]\n",
    "Filter_2_3 = cluster_km3[cluster_km3['clusterId'].isin(['2'])]"
   ]
  },
  {
   "cell_type": "code",
   "execution_count": 58,
   "metadata": {},
   "outputs": [
    {
     "name": "stdout",
     "output_type": "stream",
     "text": [
      "(47, 12)\n",
      "(84, 12)\n",
      "(36, 12)\n"
     ]
    }
   ],
   "source": [
    "print(Filter_0_3.shape)\n",
    "print(Filter_1_3.shape)\n",
    "print(Filter_2_3.shape)"
   ]
  },
  {
   "cell_type": "markdown",
   "metadata": {},
   "source": [
    "Based on the visualization above Cluster 2 stands out based on the key attributes 'child_mort', 'exports', 'income', 'life_expec', 'gdpp' which are also the key PCs as shown in the scatter plot"
   ]
  },
  {
   "cell_type": "code",
   "execution_count": 59,
   "metadata": {},
   "outputs": [],
   "source": [
    "Plot20_3 = Filter_1_3.head(20)"
   ]
  },
  {
   "cell_type": "code",
   "execution_count": 60,
   "metadata": {},
   "outputs": [
    {
     "data": {
      "image/png": "[encoded data removed]",
      "text/plain": [
       "<Figure size 1440x864 with 1 Axes>"
      ]
     },
     "metadata": {},
     "output_type": "display_data"
    }
   ],
   "source": [
    "plt.figure(figsize=(20, 12))\n",
    "sns.barplot(x='gdpp', y='country', data=Plot20_3)\n",
    "plt.show()"
   ]
  },
  {
   "cell_type": "markdown",
   "metadata": {},
   "source": [
    "### Heirarchical Clustering"
   ]
  },
  {
   "cell_type": "code",
   "execution_count": 61,
   "metadata": {},
   "outputs": [
    {
     "data": {
      "image/png": "[encoded data removed]",
      "text/plain": [
       "<Figure size 1440x864 with 1 Axes>"
      ]
     },
     "metadata": {},
     "output_type": "display_data"
    }
   ],
   "source": [
    "# heirarchical clustering- single\n",
    "plt.figure(figsize=(20, 12))\n",
    "mergings = linkage(df_pca, method = \"single\", metric='euclidean')\n",
    "dendrogram(mergings)\n",
    "plt.show()"
   ]
  },
  {
   "cell_type": "code",
   "execution_count": 62,
   "metadata": {},
   "outputs": [
    {
     "data": {
      "image/png": "[encoded data removed]",
      "text/plain": [
       "<Figure size 1440x864 with 1 Axes>"
      ]
     },
     "metadata": {},
     "output_type": "display_data"
    }
   ],
   "source": [
    "# heirarchical clustering- complete\n",
    "plt.figure(figsize=(20, 12))\n",
    "mergings = linkage(df_pca, method = \"complete\", metric='euclidean')\n",
    "dendrogram(mergings)\n",
    "plt.show()"
   ]
  },
  {
   "cell_type": "markdown",
   "metadata": {},
   "source": [
    "#### Analysis of Clusters"
   ]
  },
  {
   "cell_type": "code",
   "execution_count": 63,
   "metadata": {},
   "outputs": [
    {
     "data": {
      "text/html": [
       "<div>\n",
       "<style scoped>\n",
       "    .dataframe tbody tr th:only-of-type {\n",
       "        vertical-align: middle;\n",
       "    }\n",
       "\n",
       "    .dataframe tbody tr th {\n",
       "        vertical-align: top;\n",
       "    }\n",
       "\n",
       "    .dataframe thead th {\n",
       "        text-align: right;\n",
       "    }\n",
       "</style>\n",
       "<table border=\"1\" class=\"dataframe\">\n",
       "  <thead>\n",
       "    <tr style=\"text-align: right;\">\n",
       "      <th></th>\n",
       "      <th>index</th>\n",
       "      <th>country</th>\n",
       "      <th>child_mort</th>\n",
       "      <th>exports</th>\n",
       "      <th>health</th>\n",
       "      <th>imports</th>\n",
       "      <th>income</th>\n",
       "      <th>inflation</th>\n",
       "      <th>life_expec</th>\n",
       "      <th>total_fer</th>\n",
       "      <th>gdpp</th>\n",
       "      <th>clusterId</th>\n",
       "    </tr>\n",
       "  </thead>\n",
       "  <tbody>\n",
       "    <tr>\n",
       "      <th>0</th>\n",
       "      <td>0</td>\n",
       "      <td>Afghanistan</td>\n",
       "      <td>90.2</td>\n",
       "      <td>10.0</td>\n",
       "      <td>7.58</td>\n",
       "      <td>44.9</td>\n",
       "      <td>1610</td>\n",
       "      <td>9.44</td>\n",
       "      <td>56.2</td>\n",
       "      <td>5.82</td>\n",
       "      <td>553</td>\n",
       "      <td>0</td>\n",
       "    </tr>\n",
       "    <tr>\n",
       "      <th>1</th>\n",
       "      <td>1</td>\n",
       "      <td>Albania</td>\n",
       "      <td>16.6</td>\n",
       "      <td>28.0</td>\n",
       "      <td>6.55</td>\n",
       "      <td>48.6</td>\n",
       "      <td>9930</td>\n",
       "      <td>4.49</td>\n",
       "      <td>76.3</td>\n",
       "      <td>1.65</td>\n",
       "      <td>4090</td>\n",
       "      <td>0</td>\n",
       "    </tr>\n",
       "    <tr>\n",
       "      <th>2</th>\n",
       "      <td>2</td>\n",
       "      <td>Algeria</td>\n",
       "      <td>27.3</td>\n",
       "      <td>38.4</td>\n",
       "      <td>4.17</td>\n",
       "      <td>31.4</td>\n",
       "      <td>12900</td>\n",
       "      <td>16.10</td>\n",
       "      <td>76.5</td>\n",
       "      <td>2.89</td>\n",
       "      <td>4460</td>\n",
       "      <td>0</td>\n",
       "    </tr>\n",
       "    <tr>\n",
       "      <th>3</th>\n",
       "      <td>3</td>\n",
       "      <td>Angola</td>\n",
       "      <td>119.0</td>\n",
       "      <td>62.3</td>\n",
       "      <td>2.85</td>\n",
       "      <td>42.9</td>\n",
       "      <td>5900</td>\n",
       "      <td>22.40</td>\n",
       "      <td>60.1</td>\n",
       "      <td>6.16</td>\n",
       "      <td>3530</td>\n",
       "      <td>0</td>\n",
       "    </tr>\n",
       "    <tr>\n",
       "      <th>4</th>\n",
       "      <td>4</td>\n",
       "      <td>Antigua and Barbuda</td>\n",
       "      <td>10.3</td>\n",
       "      <td>45.5</td>\n",
       "      <td>6.03</td>\n",
       "      <td>58.9</td>\n",
       "      <td>19100</td>\n",
       "      <td>1.44</td>\n",
       "      <td>76.8</td>\n",
       "      <td>2.13</td>\n",
       "      <td>12200</td>\n",
       "      <td>0</td>\n",
       "    </tr>\n",
       "  </tbody>\n",
       "</table>\n",
       "</div>"
      ],
      "text/plain": [
       "   index              country  child_mort  exports  health  imports  income  \\\n",
       "0      0          Afghanistan        90.2     10.0    7.58     44.9    1610   \n",
       "1      1              Albania        16.6     28.0    6.55     48.6    9930   \n",
       "2      2              Algeria        27.3     38.4    4.17     31.4   12900   \n",
       "3      3               Angola       119.0     62.3    2.85     42.9    5900   \n",
       "4      4  Antigua and Barbuda        10.3     45.5    6.03     58.9   19100   \n",
       "\n",
       "   inflation  life_expec  total_fer   gdpp  clusterId  \n",
       "0       9.44        56.2       5.82    553          0  \n",
       "1       4.49        76.3       1.65   4090          0  \n",
       "2      16.10        76.5       2.89   4460          0  \n",
       "3      22.40        60.1       6.16   3530          0  \n",
       "4       1.44        76.8       2.13  12200          0  "
      ]
     },
     "execution_count": 63,
     "metadata": {},
     "output_type": "execute_result"
    }
   ],
   "source": [
    "clusterCut3 = pd.Series(cut_tree(mergings, n_clusters = 3).reshape(-1,))\n",
    "cluster_hc3 = pd.concat([country_data, clusterCut3], axis=1)\n",
    "cluster_hc3.columns = ['index','country','child_mort','exports','health','imports','income','inflation','life_expec','total_fer','gdpp','clusterId']\n",
    "cluster_hc3.head()"
   ]
  },
  {
   "cell_type": "markdown",
   "metadata": {},
   "source": [
    "#### Visualizing the Data with the clusters formed"
   ]
  },
  {
   "cell_type": "code",
   "execution_count": 64,
   "metadata": {},
   "outputs": [
    {
     "data": {
      "image/png": "[encoded data removed]",
      "text/plain": [
       "<Figure size 1440x864 with 6 Axes>"
      ]
     },
     "metadata": {},
     "output_type": "display_data"
    }
   ],
   "source": [
    "# Create subplots(By default Average)\n",
    "# increase figure size \n",
    "plt.figure(figsize=(20, 12))\n",
    "# subplot 1\n",
    "plt.subplot(2, 3, 1)\n",
    "sns.barplot(x='clusterId', y='child_mort', data=cluster_hc3)\n",
    "# subplot 2\n",
    "plt.subplot(2, 3, 2)\n",
    "sns.barplot(x='clusterId', y='exports', data=cluster_hc3)\n",
    "# subplot 3\n",
    "plt.subplot(2, 3, 3)\n",
    "sns.barplot(x='clusterId', y='health', data=cluster_hc3)\n",
    "# subplot 4\n",
    "plt.subplot(2, 3, 4)\n",
    "sns.barplot(x='clusterId', y='imports', data=cluster_hc3)\n",
    "# subplot 5\n",
    "plt.subplot(2, 3, 5)\n",
    "sns.barplot(x='clusterId', y='income', data=cluster_hc3)\n",
    "# subplot 6\n",
    "plt.subplot(2, 3, 6)\n",
    "sns.barplot(x='clusterId', y='inflation', data=cluster_hc3)\n",
    "plt.show()"
   ]
  },
  {
   "cell_type": "code",
   "execution_count": 65,
   "metadata": {},
   "outputs": [
    {
     "data": {
      "image/png": "[encoded data removed]",
      "text/plain": [
       "<Figure size 1440x864 with 3 Axes>"
      ]
     },
     "metadata": {},
     "output_type": "display_data"
    }
   ],
   "source": [
    "# Create subplots(By default Average)\n",
    "# increase figure size \n",
    "plt.figure(figsize=(20, 12))\n",
    "# subplot 1\n",
    "plt.subplot(2, 3, 1)\n",
    "sns.barplot(x='clusterId', y='life_expec', data=cluster_hc3)\n",
    "# subplot 2\n",
    "plt.subplot(2, 3, 2)\n",
    "sns.barplot(x='clusterId', y='total_fer', data=cluster_hc3)\n",
    "# subplot 3\n",
    "plt.subplot(2, 3, 3)\n",
    "sns.barplot(x='clusterId', y='gdpp', data=cluster_hc3)\n",
    "plt.show()"
   ]
  },
  {
   "cell_type": "markdown",
   "metadata": {},
   "source": [
    "#### Filtering out the Data among the Clusters Formed\n"
   ]
  },
  {
   "cell_type": "code",
   "execution_count": 66,
   "metadata": {},
   "outputs": [],
   "source": [
    "HC_Filter_0 = cluster_hc3[cluster_hc3['clusterId'].isin(['0'])]\n",
    "HC_Filter_1 = cluster_hc3[cluster_hc3['clusterId'].isin(['1'])]\n",
    "HC_Filter_2 = cluster_hc3[cluster_hc3['clusterId'].isin(['2'])]"
   ]
  },
  {
   "cell_type": "code",
   "execution_count": 67,
   "metadata": {},
   "outputs": [
    {
     "name": "stdout",
     "output_type": "stream",
     "text": [
      "(162, 12)\n",
      "(4, 12)\n",
      "(1, 12)\n"
     ]
    }
   ],
   "source": [
    "print(HC_Filter_0.shape)\n",
    "print(HC_Filter_1.shape)\n",
    "print(HC_Filter_2.shape)"
   ]
  },
  {
   "cell_type": "markdown",
   "metadata": {},
   "source": [
    "Based on the visualization above Cluster 2 stands out based on the key attributes 'child_mort', 'exports', 'health', 'import', 'income', 'life_expec', 'gdpp' which are also the key PCs as shown in the scatter plot"
   ]
  },
  {
   "cell_type": "code",
   "execution_count": 68,
   "metadata": {},
   "outputs": [],
   "source": [
    "Plot20_3_HC = HC_Filter_1.head(20)"
   ]
  },
  {
   "cell_type": "code",
   "execution_count": 72,
   "metadata": {},
   "outputs": [
    {
     "data": {
      "image/png": "[encoded data removed]",
      "text/plain": [
       "<Figure size 720x360 with 1 Axes>"
      ]
     },
     "metadata": {},
     "output_type": "display_data"
    }
   ],
   "source": [
    "plt.figure(figsize=(10, 5))\n",
    "sns.barplot(x='gdpp', y='country', data=Plot20_3_HC)\n",
    "plt.show()"
   ]
  },
  {
   "cell_type": "markdown",
   "metadata": {},
   "source": [
    "The analysis was done using both K-Means and Hierarchical clustering and based on the visualization and the outcome K-Means should be preferred using 3 as a value of K. Outliers are not treated although it was mentioned but based on the business objective it was assumed that outliers won't affect much on the outcome. "
   ]
  },
  {
   "cell_type": "code",
   "execution_count": null,
   "metadata": {},
   "outputs": [],
   "source": []
  }
 ],
 "metadata": {
  "kernelspec": {
   "display_name": "Python 3",
   "language": "python",
   "name": "python3"
  },
  "language_info": {
   "codemirror_mode": {
    "name": "ipython",
    "version": 3
   },
   "file_extension": ".py",
   "mimetype": "text/x-python",
   "name": "python",
   "nbconvert_exporter": "python",
   "pygments_lexer": "ipython3",
   "version": "3.6.5"
  }
 },
 "nbformat": 4,
 "nbformat_minor": 2
}
